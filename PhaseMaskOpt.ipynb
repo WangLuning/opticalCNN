{
 "cells": [
  {
   "cell_type": "code",
   "execution_count": 1,
   "metadata": {},
   "outputs": [
    {
     "name": "stdout",
     "output_type": "stream",
     "text": [
      "Extracting MNIST_data/train-images-idx3-ubyte.gz\n",
      "Extracting MNIST_data/train-labels-idx1-ubyte.gz\n",
      "Extracting MNIST_data/t10k-images-idx3-ubyte.gz\n",
      "Extracting MNIST_data/t10k-labels-idx1-ubyte.gz\n"
     ]
    }
   ],
   "source": [
    "import numpy as np\n",
    "import math\n",
    "import timeit\n",
    "import matplotlib.pyplot as plt\n",
    "from scipy.misc import imsave\n",
    "from scipy.misc import imresize\n",
    "%matplotlib inline\n",
    "\n",
    "import os\n",
    "os.environ[\"CUDA_VISIBLE_DEVICES\"]=\"0\"\n",
    "\n",
    "import tensorflow as tf\n",
    "from tensorflow.examples.tutorials.mnist import input_data\n",
    "mnist = input_data.read_data_sets('MNIST_data', one_hot=True)"
   ]
  },
  {
   "cell_type": "code",
   "execution_count": 2,
   "metadata": {},
   "outputs": [
    {
     "data": {
      "image/png": "[encoded data removed]",
      "text/plain": [
       "<matplotlib.figure.Figure at 0x7fe4c3935668>"
      ]
     },
     "metadata": {},
     "output_type": "display_data"
    },
    {
     "name": "stdout",
     "output_type": "stream",
     "text": [
      "[ 0.  0.  0.  0.  0.  0.  0.  0.  1.  0.]\n",
      "8274 0.0 1.0\n"
     ]
    }
   ],
   "source": [
    "i = np.random.randint(0, 10000)\n",
    "I = np.reshape(mnist.train.images[i], (28,28))\n",
    "\n",
    "plt.imshow(I, cmap='gray')\n",
    "plt.axis('off')\n",
    "plt.gcf().set_size_inches(1, 1)\n",
    "plt.show()\n",
    "print(mnist.train.labels[i])\n",
    "print(i, np.min(I), np.max(I))"
   ]
  },
  {
   "cell_type": "code",
   "execution_count": 25,
   "metadata": {},
   "outputs": [
    {
     "data": {
      "image/png": "[encoded data removed]",
      "text/plain": [
       "<matplotlib.figure.Figure at 0x7fe4c312f208>"
      ]
     },
     "metadata": {},
     "output_type": "display_data"
    },
    {
     "name": "stdout",
     "output_type": "stream",
     "text": [
      "(240, 240)\n"
     ]
    }
   ],
   "source": [
    "# pad image\n",
    "I = imresize(I, (40,40))\n",
    "pad_amt = 100\n",
    "Ipad = np.pad(I, ((pad_amt, pad_amt)), 'constant', constant_values = (0,0))\n",
    "plt.imshow(Ipad, cmap='gray')\n",
    "plt.axis('off')\n",
    "plt.gcf().set_size_inches(3, 3)\n",
    "plt.show()\n",
    "\n",
    "print(np.shape(Ipad))"
   ]
  },
  {
   "cell_type": "code",
   "execution_count": 40,
   "metadata": {},
   "outputs": [
    {
     "data": {
      "image/png": "[encoded data removed]",
      "text/plain": [
       "<matplotlib.figure.Figure at 0x7fe4c31232b0>"
      ]
     },
     "metadata": {},
     "output_type": "display_data"
    },
    {
     "data": {
      "image/png": "[encoded data removed]",
      "text/plain": [
       "<matplotlib.figure.Figure at 0x7fe4c3594ef0>"
      ]
     },
     "metadata": {},
     "output_type": "display_data"
    },
    {
     "data": {
      "image/png": "[encoded data removed]",
      "text/plain": [
       "<matplotlib.figure.Figure at 0x7fe4c3176c50>"
      ]
     },
     "metadata": {},
     "output_type": "display_data"
    }
   ],
   "source": [
    "# PSF\n",
    "dim = np.shape(Ipad)[0]\n",
    "psf = np.zeros((dim, dim))\n",
    "# psf[int(dim/2), int(dim/2) - int(np.shape(I)[0]/2)] = 1\n",
    "# psf[int(dim/2), int(dim/2) + int(np.shape(I)[0]/2)] = 1\n",
    "\n",
    "xvals = [80, 120, 160]\n",
    "psf[xvals[0], xvals] = 1\n",
    "psf[xvals[1], xvals] = 1\n",
    "psf[xvals[2], xvals] = 1\n",
    "\n",
    "\n",
    "plt.imshow(psf, cmap='gray')\n",
    "plt.axis('off')\n",
    "plt.gcf().set_size_inches(3, 3)\n",
    "plt.show()\n",
    "\n",
    "# convolve\n",
    "otf = np.fft.fft2(np.fft.ifftshift(psf))\n",
    "plt.imshow(np.square(np.fft.fftshift(np.abs(otf))), cmap='gray')\n",
    "plt.axis('off')\n",
    "plt.gcf().set_size_inches(3, 3)\n",
    "plt.show()\n",
    "\n",
    "Iout = np.fft.ifft2(np.fft.fft2(Ipad)*otf) \n",
    "\n",
    "plt.imshow(np.square(np.abs(Iout)), cmap='gray')\n",
    "plt.axis('off')\n",
    "plt.gcf().set_size_inches(3, 3)\n",
    "plt.show()"
   ]
  },
  {
   "cell_type": "code",
   "execution_count": 21,
   "metadata": {},
   "outputs": [
    {
     "data": {
      "image/png": "[encoded data removed]",
      "text/plain": [
       "<matplotlib.figure.Figure at 0x7fbc4e02c4e0>"
      ]
     },
     "metadata": {},
     "output_type": "display_data"
    },
    {
     "data": {
      "image/png": "[encoded data removed]",
      "text/plain": [
       "<matplotlib.figure.Figure at 0x7fbc4e257898>"
      ]
     },
     "metadata": {},
     "output_type": "display_data"
    },
    {
     "ename": "ValueError",
     "evalue": "operands could not be broadcast together with shapes (170,170) (84,84) ",
     "output_type": "error",
     "traceback": [
      "\u001b[0;31m---------------------------------------------------------------------------\u001b[0m",
      "\u001b[0;31mValueError\u001b[0m                                Traceback (most recent call last)",
      "\u001b[0;32m<ipython-input-21-996599ea6f6d>\u001b[0m in \u001b[0;36m<module>\u001b[0;34m()\u001b[0m\n\u001b[1;32m     20\u001b[0m \u001b[0mplt\u001b[0m\u001b[0;34m.\u001b[0m\u001b[0mshow\u001b[0m\u001b[0;34m(\u001b[0m\u001b[0;34m)\u001b[0m\u001b[0;34m\u001b[0m\u001b[0m\n\u001b[1;32m     21\u001b[0m \u001b[0;34m\u001b[0m\u001b[0m\n\u001b[0;32m---> 22\u001b[0;31m \u001b[0mIout\u001b[0m \u001b[0;34m=\u001b[0m \u001b[0mnp\u001b[0m\u001b[0;34m.\u001b[0m\u001b[0mfft\u001b[0m\u001b[0;34m.\u001b[0m\u001b[0mifft2\u001b[0m\u001b[0;34m(\u001b[0m\u001b[0mnp\u001b[0m\u001b[0;34m.\u001b[0m\u001b[0mfft\u001b[0m\u001b[0;34m.\u001b[0m\u001b[0mfft2\u001b[0m\u001b[0;34m(\u001b[0m\u001b[0mIpad\u001b[0m\u001b[0;34m)\u001b[0m\u001b[0;34m*\u001b[0m\u001b[0motf\u001b[0m\u001b[0;34m)\u001b[0m\u001b[0;34m\u001b[0m\u001b[0m\n\u001b[0m\u001b[1;32m     23\u001b[0m \u001b[0;34m\u001b[0m\u001b[0m\n\u001b[1;32m     24\u001b[0m \u001b[0mplt\u001b[0m\u001b[0;34m.\u001b[0m\u001b[0mimshow\u001b[0m\u001b[0;34m(\u001b[0m\u001b[0mnp\u001b[0m\u001b[0;34m.\u001b[0m\u001b[0msquare\u001b[0m\u001b[0;34m(\u001b[0m\u001b[0mnp\u001b[0m\u001b[0;34m.\u001b[0m\u001b[0mabs\u001b[0m\u001b[0;34m(\u001b[0m\u001b[0mIout\u001b[0m\u001b[0;34m)\u001b[0m\u001b[0;34m)\u001b[0m\u001b[0;34m,\u001b[0m \u001b[0mcmap\u001b[0m\u001b[0;34m=\u001b[0m\u001b[0;34m'gray'\u001b[0m\u001b[0;34m)\u001b[0m\u001b[0;34m\u001b[0m\u001b[0m\n",
      "\u001b[0;31mValueError\u001b[0m: operands could not be broadcast together with shapes (170,170) (84,84) "
     ]
    }
   ],
   "source": [
    "# OTF\n",
    "dim = 84\n",
    "atf = np.zeros((dim, dim))\n",
    "freq = 2\n",
    "atf[int(dim/2), int(dim/2) - freq] = 1\n",
    "atf[int(dim/2), int(dim/2) + freq] = 1\n",
    "\n",
    "psf = np.square(np.abs(np.fft.ifft2(np.fft.fftshift(atf))))\n",
    "\n",
    "plt.imshow(psf, cmap='gray')\n",
    "plt.axis('off')\n",
    "plt.gcf().set_size_inches(3, 3)\n",
    "plt.show()\n",
    "\n",
    "# convolve\n",
    "otf = np.fft.fft2(np.fft.ifftshift(psf))\n",
    "plt.imshow(np.square(np.fft.fftshift(np.abs(otf))), cmap='gray')\n",
    "plt.axis('off')\n",
    "plt.gcf().set_size_inches(3, 3)\n",
    "plt.show()\n",
    "\n",
    "Iout = np.fft.ifft2(np.fft.fft2(Ipad)*otf) \n",
    "\n",
    "plt.imshow(np.square(np.abs(Iout)), cmap='gray')\n",
    "plt.axis('off')\n",
    "plt.gcf().set_size_inches(3, 3)\n",
    "plt.show()"
   ]
  },
  {
   "cell_type": "code",
   "execution_count": 41,
   "metadata": {},
   "outputs": [],
   "source": [
    "np.save('maskopt/psf_9s_3x3.npy', np.square(np.abs(Iout)))"
   ]
  },
  {
   "cell_type": "code",
   "execution_count": 29,
   "metadata": {},
   "outputs": [],
   "source": [
    "for j in range(10000):\n",
    "    i = np.random.randint(0, 10000)\n",
    "    I = np.reshape(mnist.train.images[i], (28,28))\n",
    "    I = imresize(I, (40,40))\n",
    "    \n",
    "    # pad image\n",
    "    pad_amt = 100\n",
    "    Ipad = np.pad(I, ((pad_amt, pad_amt)), 'constant', constant_values = (0,0))\n",
    "    \n",
    "    imsave('/media/data/onn/mnistpadded240/mnist_pad_%04d.png' % (j), Ipad)\n"
   ]
  },
  {
   "cell_type": "markdown",
   "metadata": {},
   "source": [
    "### Extract phase mask"
   ]
  },
  {
   "cell_type": "code",
   "execution_count": 70,
   "metadata": {
    "collapsed": true
   },
   "outputs": [],
   "source": [
    "def print_tensors_in_ckpt(ckpt_path):\n",
    "    chkp.print_tensors_in_checkpoint_file(ckpt_path, \n",
    "                                          tensor_name='', all_tensors=False)\n",
    "    \n",
    "def load_variable_from_checkpoint(tensor_name, shape, ckpt_path, dtype=tf.float64):\n",
    "    tf.reset_default_graph()\n",
    "\n",
    "    # Load checkpoint from disk to compare phase shifts found by tensorflow\n",
    "    tensor_graph = tf.get_variable(tensor_name, shape=shape, dtype=dtype)\n",
    "    with tf.Session() as sess:\n",
    "        saver = tf.train.Saver([tensor_graph])\n",
    "        saver.restore(sess, ckpt_path)\n",
    "        \n",
    "        tensor_value = sess.run(tensor_graph)\n",
    "\n",
    "    return tensor_value"
   ]
  },
  {
   "cell_type": "code",
   "execution_count": 71,
   "metadata": {},
   "outputs": [
    {
     "name": "stdout",
     "output_type": "stream",
     "text": [
      "INFO:tensorflow:Restoring parameters from /home/sci/workspace/onn/checkpoints/doublepsf/20171220-180402/PhaseMask_Test.ckpt-39500\n"
     ]
    },
    {
     "data": {
      "image/png": "[encoded data removed]",
      "text/plain": [
       "<matplotlib.figure.Figure at 0x7f2a7d9aceb8>"
      ]
     },
     "metadata": {},
     "output_type": "display_data"
    }
   ],
   "source": [
    "ckpt_path = '/media/data/checkpoints/onn/mnist_with_summaries/optconv-testing-2/train/'\n",
    "# /home/sci/workspace/onn/checkpoints/doublepsf/20171220-180402/PhaseMask_Test.ckpt-39500\n",
    "# print_tensors_in_ckpt(ckpt_path)\n",
    "varname = 'model/phase_mask_height/height_map_sqrt'\n",
    "var = load_variable_from_checkpoint(varname, [1,170,170,1], ckpt_path, dtype=tf.float64)\n",
    "height_map = np.square(var.squeeze())\n",
    "\n",
    "plt.pcolor(height_map, vmin=0, vmax=1e-6)\n",
    "plt.colorbar()\n",
    "plt.axis('equal')\n",
    "plt.show()"
   ]
  },
  {
   "cell_type": "code",
   "execution_count": 72,
   "metadata": {},
   "outputs": [
    {
     "data": {
      "image/png": "[encoded data removed]",
      "text/plain": [
       "<matplotlib.figure.Figure at 0x7f2a7d5b6f60>"
      ]
     },
     "metadata": {},
     "output_type": "display_data"
    }
   ],
   "source": [
    "# Visualize phase mask instead\n",
    "wavelength = 532 * 1e-9\n",
    "n = 1.5\n",
    "delta_n = n - 1.0002777\n",
    "phi = (2*np.pi*delta_n/wavelength) * height_map\n",
    "phimax = 1.5*np.pi;\n",
    "phi = np.mod(phi, phimax)\n",
    "\n",
    "plt.pcolor(phi, vmin=0, vmax=phimax)\n",
    "plt.colorbar()\n",
    "plt.axis('equal')\n",
    "plt.show()\n"
   ]
  },
  {
   "cell_type": "code",
   "execution_count": 75,
   "metadata": {},
   "outputs": [
    {
     "data": {
      "image/png": "[encoded data removed]",
      "text/plain": [
       "<matplotlib.figure.Figure at 0x7f2a6c73cf28>"
      ]
     },
     "metadata": {},
     "output_type": "display_data"
    }
   ],
   "source": [
    "# Test phase mask\n",
    "from scipy.misc import imread\n",
    "I = imread('testing/mnist_pad_0010.png')\n",
    "# I = np.zeros((84,84))\n",
    "# I[44:45,30:60]=1\n",
    "# I[30:60,44]=1\n",
    "Ift = np.fft.fft2(I)\n",
    "\n",
    "fig, ax = plt.subplots(nrows=1, ncols=4)\n",
    "plt.subplot(141)\n",
    "plt.imshow(I, cmap='gray')\n",
    "plt.axis('off')\n",
    "plt.subplot(142)\n",
    "plt.imshow(np.square(np.abs(np.fft.fftshift(Ift))), cmap='gray')\n",
    "plt.axis('off')\n",
    "\n",
    "# convolve\n",
    "[x, y] = np.mgrid[-85: 85, -85: 85].astype(np.float64)\n",
    "max_val = np.amax(30)\n",
    "r = np.sqrt(x ** 2 + y ** 2)\n",
    "aperture_mask = r<max_val\n",
    "atf = np.fft.ifftshift(aperture_mask * np.exp(1j*phi))\n",
    "psf = np.square(np.abs(np.fft.ifft2(atf)))\n",
    "plt.subplot(143)\n",
    "plt.imshow(np.fft.fftshift(psf), cmap='gray')\n",
    "plt.axis('off')\n",
    "\n",
    "otf = np.fft.fft2(psf)\n",
    "Iout = np.fft.ifft2(Ift*otf) \n",
    "\n",
    "plt.subplot(144)\n",
    "plt.imshow(np.square(np.abs(Iout)), cmap='gray')\n",
    "plt.axis('off')\n",
    "plt.gcf().set_size_inches(12, 3)\n",
    "plt.show()"
   ]
  },
  {
   "cell_type": "code",
   "execution_count": 66,
   "metadata": {
    "collapsed": true
   },
   "outputs": [],
   "source": [
    "# save phase mask as text file\n",
    "np.savetxt('phasemask_2.txt', phi)"
   ]
  },
  {
   "cell_type": "code",
   "execution_count": null,
   "metadata": {
    "collapsed": true
   },
   "outputs": [],
   "source": []
  }
 ],
 "metadata": {
  "kernelspec": {
   "display_name": "Python 3",
   "language": "python",
   "name": "python3"
  },
  "language_info": {
   "codemirror_mode": {
    "name": "ipython",
    "version": 3
   },
   "file_extension": ".py",
   "mimetype": "text/x-python",
   "name": "python",
   "nbconvert_exporter": "python",
   "pygments_lexer": "ipython3",
   "version": "3.5.4"
  }
 },
 "nbformat": 4,
 "nbformat_minor": 2
}
